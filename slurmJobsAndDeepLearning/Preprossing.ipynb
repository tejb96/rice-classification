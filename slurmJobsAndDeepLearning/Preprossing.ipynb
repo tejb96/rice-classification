{
  "cells": [
    {
      "cell_type": "code",
      "execution_count": 9,
      "metadata": {
        "colab": {
          "base_uri": "https://localhost:8080/"
        },
        "id": "GgpNStBJPh1-",
        "outputId": "3dc0bc16-7fa4-4b1f-9f8f-630989398c3c"
      },
      "outputs": [
        {
          "name": "stdout",
          "output_type": "stream",
          "text": [
            "Requirement already satisfied: gradio in /Users/harshilpatel/anaconda3/lib/python3.11/site-packages (4.22.0)\n",
            "Requirement already satisfied: aiofiles<24.0,>=22.0 in /Users/harshilpatel/anaconda3/lib/python3.11/site-packages (from gradio) (22.1.0)\n",
            "Requirement already satisfied: altair<6.0,>=4.2.0 in /Users/harshilpatel/anaconda3/lib/python3.11/site-packages (from gradio) (5.2.0)\n",
            "Requirement already satisfied: fastapi in /Users/harshilpatel/anaconda3/lib/python3.11/site-packages (from gradio) (0.110.0)\n",
            "Requirement already satisfied: ffmpy in /Users/harshilpatel/anaconda3/lib/python3.11/site-packages (from gradio) (0.3.2)\n",
            "Requirement already satisfied: gradio-client==0.13.0 in /Users/harshilpatel/anaconda3/lib/python3.11/site-packages (from gradio) (0.13.0)\n",
            "Requirement already satisfied: httpx>=0.24.1 in /Users/harshilpatel/anaconda3/lib/python3.11/site-packages (from gradio) (0.27.0)\n",
            "Requirement already satisfied: huggingface-hub>=0.19.3 in /Users/harshilpatel/anaconda3/lib/python3.11/site-packages (from gradio) (0.21.4)\n",
            "Requirement already satisfied: importlib-resources<7.0,>=1.3 in /Users/harshilpatel/anaconda3/lib/python3.11/site-packages (from gradio) (6.4.0)\n",
            "Requirement already satisfied: jinja2<4.0 in /Users/harshilpatel/anaconda3/lib/python3.11/site-packages (from gradio) (3.1.2)\n",
            "Requirement already satisfied: markupsafe~=2.0 in /Users/harshilpatel/anaconda3/lib/python3.11/site-packages (from gradio) (2.1.1)\n",
            "Requirement already satisfied: matplotlib~=3.0 in /Users/harshilpatel/anaconda3/lib/python3.11/site-packages (from gradio) (3.7.2)\n",
            "Requirement already satisfied: numpy~=1.0 in /Users/harshilpatel/anaconda3/lib/python3.11/site-packages (from gradio) (1.24.3)\n",
            "Requirement already satisfied: orjson~=3.0 in /Users/harshilpatel/anaconda3/lib/python3.11/site-packages (from gradio) (3.9.15)\n",
            "Requirement already satisfied: packaging in /Users/harshilpatel/anaconda3/lib/python3.11/site-packages (from gradio) (23.1)\n",
            "Requirement already satisfied: pandas<3.0,>=1.0 in /Users/harshilpatel/anaconda3/lib/python3.11/site-packages (from gradio) (2.0.3)\n",
            "Requirement already satisfied: pillow<11.0,>=8.0 in /Users/harshilpatel/anaconda3/lib/python3.11/site-packages (from gradio) (9.4.0)\n",
            "Requirement already satisfied: pydantic>=2.0 in /Users/harshilpatel/anaconda3/lib/python3.11/site-packages (from gradio) (2.6.4)\n",
            "Requirement already satisfied: pydub in /Users/harshilpatel/anaconda3/lib/python3.11/site-packages (from gradio) (0.25.1)\n",
            "Requirement already satisfied: python-multipart>=0.0.9 in /Users/harshilpatel/anaconda3/lib/python3.11/site-packages (from gradio) (0.0.9)\n",
            "Requirement already satisfied: pyyaml<7.0,>=5.0 in /Users/harshilpatel/anaconda3/lib/python3.11/site-packages (from gradio) (6.0)\n",
            "Requirement already satisfied: ruff>=0.2.2 in /Users/harshilpatel/anaconda3/lib/python3.11/site-packages (from gradio) (0.3.4)\n",
            "Requirement already satisfied: semantic-version~=2.0 in /Users/harshilpatel/anaconda3/lib/python3.11/site-packages (from gradio) (2.10.0)\n",
            "Requirement already satisfied: tomlkit==0.12.0 in /Users/harshilpatel/anaconda3/lib/python3.11/site-packages (from gradio) (0.12.0)\n",
            "Requirement already satisfied: typer[all]<1.0,>=0.9 in /Users/harshilpatel/anaconda3/lib/python3.11/site-packages (from gradio) (0.9.0)\n",
            "Requirement already satisfied: typing-extensions~=4.0 in /Users/harshilpatel/anaconda3/lib/python3.11/site-packages (from gradio) (4.10.0)\n",
            "Requirement already satisfied: uvicorn>=0.14.0 in /Users/harshilpatel/anaconda3/lib/python3.11/site-packages (from gradio) (0.29.0)\n",
            "Requirement already satisfied: fsspec in /Users/harshilpatel/anaconda3/lib/python3.11/site-packages (from gradio-client==0.13.0->gradio) (2024.3.1)\n",
            "Requirement already satisfied: websockets<12.0,>=10.0 in /Users/harshilpatel/anaconda3/lib/python3.11/site-packages (from gradio-client==0.13.0->gradio) (11.0.3)\n",
            "Requirement already satisfied: jsonschema>=3.0 in /Users/harshilpatel/anaconda3/lib/python3.11/site-packages (from altair<6.0,>=4.2.0->gradio) (4.17.3)\n",
            "Requirement already satisfied: toolz in /Users/harshilpatel/anaconda3/lib/python3.11/site-packages (from altair<6.0,>=4.2.0->gradio) (0.12.0)\n",
            "Requirement already satisfied: anyio in /Users/harshilpatel/anaconda3/lib/python3.11/site-packages (from httpx>=0.24.1->gradio) (3.5.0)\n",
            "Requirement already satisfied: certifi in /Users/harshilpatel/anaconda3/lib/python3.11/site-packages (from httpx>=0.24.1->gradio) (2023.7.22)\n",
            "Requirement already satisfied: httpcore==1.* in /Users/harshilpatel/anaconda3/lib/python3.11/site-packages (from httpx>=0.24.1->gradio) (1.0.4)\n",
            "Requirement already satisfied: idna in /Users/harshilpatel/anaconda3/lib/python3.11/site-packages (from httpx>=0.24.1->gradio) (3.4)\n",
            "Requirement already satisfied: sniffio in /Users/harshilpatel/anaconda3/lib/python3.11/site-packages (from httpx>=0.24.1->gradio) (1.2.0)\n",
            "Requirement already satisfied: h11<0.15,>=0.13 in /Users/harshilpatel/anaconda3/lib/python3.11/site-packages (from httpcore==1.*->httpx>=0.24.1->gradio) (0.14.0)\n",
            "Requirement already satisfied: filelock in /Users/harshilpatel/anaconda3/lib/python3.11/site-packages (from huggingface-hub>=0.19.3->gradio) (3.9.0)\n",
            "Requirement already satisfied: requests in /Users/harshilpatel/anaconda3/lib/python3.11/site-packages (from huggingface-hub>=0.19.3->gradio) (2.31.0)\n",
            "Requirement already satisfied: tqdm>=4.42.1 in /Users/harshilpatel/anaconda3/lib/python3.11/site-packages (from huggingface-hub>=0.19.3->gradio) (4.65.0)\n",
            "Requirement already satisfied: contourpy>=1.0.1 in /Users/harshilpatel/anaconda3/lib/python3.11/site-packages (from matplotlib~=3.0->gradio) (1.0.5)\n",
            "Requirement already satisfied: cycler>=0.10 in /Users/harshilpatel/anaconda3/lib/python3.11/site-packages (from matplotlib~=3.0->gradio) (0.11.0)\n",
            "Requirement already satisfied: fonttools>=4.22.0 in /Users/harshilpatel/anaconda3/lib/python3.11/site-packages (from matplotlib~=3.0->gradio) (4.25.0)\n",
            "Requirement already satisfied: kiwisolver>=1.0.1 in /Users/harshilpatel/anaconda3/lib/python3.11/site-packages (from matplotlib~=3.0->gradio) (1.4.4)\n",
            "Requirement already satisfied: pyparsing<3.1,>=2.3.1 in /Users/harshilpatel/anaconda3/lib/python3.11/site-packages (from matplotlib~=3.0->gradio) (3.0.9)\n",
            "Requirement already satisfied: python-dateutil>=2.7 in /Users/harshilpatel/anaconda3/lib/python3.11/site-packages (from matplotlib~=3.0->gradio) (2.8.2)\n",
            "Requirement already satisfied: pytz>=2020.1 in /Users/harshilpatel/anaconda3/lib/python3.11/site-packages (from pandas<3.0,>=1.0->gradio) (2023.3.post1)\n",
            "Requirement already satisfied: tzdata>=2022.1 in /Users/harshilpatel/anaconda3/lib/python3.11/site-packages (from pandas<3.0,>=1.0->gradio) (2023.3)\n",
            "Requirement already satisfied: annotated-types>=0.4.0 in /Users/harshilpatel/anaconda3/lib/python3.11/site-packages (from pydantic>=2.0->gradio) (0.6.0)\n",
            "Requirement already satisfied: pydantic-core==2.16.3 in /Users/harshilpatel/anaconda3/lib/python3.11/site-packages (from pydantic>=2.0->gradio) (2.16.3)\n",
            "Requirement already satisfied: click<9.0.0,>=7.1.1 in /Users/harshilpatel/anaconda3/lib/python3.11/site-packages (from typer[all]<1.0,>=0.9->gradio) (8.0.4)\n",
            "Requirement already satisfied: colorama<0.5.0,>=0.4.3 in /Users/harshilpatel/anaconda3/lib/python3.11/site-packages (from typer[all]<1.0,>=0.9->gradio) (0.4.6)\n",
            "Requirement already satisfied: shellingham<2.0.0,>=1.3.0 in /Users/harshilpatel/anaconda3/lib/python3.11/site-packages (from typer[all]<1.0,>=0.9->gradio) (1.5.4)\n",
            "Requirement already satisfied: rich<14.0.0,>=10.11.0 in /Users/harshilpatel/anaconda3/lib/python3.11/site-packages (from typer[all]<1.0,>=0.9->gradio) (13.7.1)\n",
            "Requirement already satisfied: starlette<0.37.0,>=0.36.3 in /Users/harshilpatel/anaconda3/lib/python3.11/site-packages (from fastapi->gradio) (0.36.3)\n",
            "Requirement already satisfied: attrs>=17.4.0 in /Users/harshilpatel/anaconda3/lib/python3.11/site-packages (from jsonschema>=3.0->altair<6.0,>=4.2.0->gradio) (22.1.0)\n",
            "Requirement already satisfied: pyrsistent!=0.17.0,!=0.17.1,!=0.17.2,>=0.14.0 in /Users/harshilpatel/anaconda3/lib/python3.11/site-packages (from jsonschema>=3.0->altair<6.0,>=4.2.0->gradio) (0.18.0)\n",
            "Requirement already satisfied: six>=1.5 in /Users/harshilpatel/anaconda3/lib/python3.11/site-packages (from python-dateutil>=2.7->matplotlib~=3.0->gradio) (1.16.0)\n",
            "Requirement already satisfied: markdown-it-py>=2.2.0 in /Users/harshilpatel/anaconda3/lib/python3.11/site-packages (from rich<14.0.0,>=10.11.0->typer[all]<1.0,>=0.9->gradio) (2.2.0)\n",
            "Requirement already satisfied: pygments<3.0.0,>=2.13.0 in /Users/harshilpatel/anaconda3/lib/python3.11/site-packages (from rich<14.0.0,>=10.11.0->typer[all]<1.0,>=0.9->gradio) (2.15.1)\n",
            "Requirement already satisfied: charset-normalizer<4,>=2 in /Users/harshilpatel/anaconda3/lib/python3.11/site-packages (from requests->huggingface-hub>=0.19.3->gradio) (2.0.4)\n",
            "Requirement already satisfied: urllib3<3,>=1.21.1 in /Users/harshilpatel/anaconda3/lib/python3.11/site-packages (from requests->huggingface-hub>=0.19.3->gradio) (1.26.16)\n",
            "Requirement already satisfied: mdurl~=0.1 in /Users/harshilpatel/anaconda3/lib/python3.11/site-packages (from markdown-it-py>=2.2.0->rich<14.0.0,>=10.11.0->typer[all]<1.0,>=0.9->gradio) (0.1.0)\n"
          ]
        }
      ],
      "source": [
        "# prompt: !pip install gradio\n",
        "\n",
        "!pip install gradio\n"
      ]
    },
    {
      "cell_type": "code",
      "execution_count": 10,
      "metadata": {},
      "outputs": [
        {
          "name": "stdout",
          "output_type": "stream",
          "text": [
            "Requirement already satisfied: tensorflow in /Users/harshilpatel/anaconda3/lib/python3.11/site-packages (2.16.1)\n",
            "Requirement already satisfied: absl-py>=1.0.0 in /Users/harshilpatel/anaconda3/lib/python3.11/site-packages (from tensorflow) (2.1.0)\n",
            "Requirement already satisfied: astunparse>=1.6.0 in /Users/harshilpatel/anaconda3/lib/python3.11/site-packages (from tensorflow) (1.6.3)\n",
            "Requirement already satisfied: flatbuffers>=23.5.26 in /Users/harshilpatel/anaconda3/lib/python3.11/site-packages (from tensorflow) (24.3.7)\n",
            "Requirement already satisfied: gast!=0.5.0,!=0.5.1,!=0.5.2,>=0.2.1 in /Users/harshilpatel/anaconda3/lib/python3.11/site-packages (from tensorflow) (0.5.4)\n",
            "Requirement already satisfied: google-pasta>=0.1.1 in /Users/harshilpatel/anaconda3/lib/python3.11/site-packages (from tensorflow) (0.2.0)\n",
            "Requirement already satisfied: h5py>=3.10.0 in /Users/harshilpatel/anaconda3/lib/python3.11/site-packages (from tensorflow) (3.10.0)\n",
            "Requirement already satisfied: libclang>=13.0.0 in /Users/harshilpatel/anaconda3/lib/python3.11/site-packages (from tensorflow) (18.1.1)\n",
            "Requirement already satisfied: ml-dtypes~=0.3.1 in /Users/harshilpatel/anaconda3/lib/python3.11/site-packages (from tensorflow) (0.3.2)\n",
            "Requirement already satisfied: opt-einsum>=2.3.2 in /Users/harshilpatel/anaconda3/lib/python3.11/site-packages (from tensorflow) (3.3.0)\n",
            "Requirement already satisfied: packaging in /Users/harshilpatel/anaconda3/lib/python3.11/site-packages (from tensorflow) (23.1)\n",
            "Requirement already satisfied: protobuf!=4.21.0,!=4.21.1,!=4.21.2,!=4.21.3,!=4.21.4,!=4.21.5,<5.0.0dev,>=3.20.3 in /Users/harshilpatel/anaconda3/lib/python3.11/site-packages (from tensorflow) (4.25.3)\n",
            "Requirement already satisfied: requests<3,>=2.21.0 in /Users/harshilpatel/anaconda3/lib/python3.11/site-packages (from tensorflow) (2.31.0)\n",
            "Requirement already satisfied: setuptools in /Users/harshilpatel/anaconda3/lib/python3.11/site-packages (from tensorflow) (68.0.0)\n",
            "Requirement already satisfied: six>=1.12.0 in /Users/harshilpatel/anaconda3/lib/python3.11/site-packages (from tensorflow) (1.16.0)\n",
            "Requirement already satisfied: termcolor>=1.1.0 in /Users/harshilpatel/anaconda3/lib/python3.11/site-packages (from tensorflow) (2.4.0)\n",
            "Requirement already satisfied: typing-extensions>=3.6.6 in /Users/harshilpatel/anaconda3/lib/python3.11/site-packages (from tensorflow) (4.10.0)\n",
            "Requirement already satisfied: wrapt>=1.11.0 in /Users/harshilpatel/anaconda3/lib/python3.11/site-packages (from tensorflow) (1.14.1)\n",
            "Requirement already satisfied: grpcio<2.0,>=1.24.3 in /Users/harshilpatel/anaconda3/lib/python3.11/site-packages (from tensorflow) (1.62.1)\n",
            "Requirement already satisfied: tensorboard<2.17,>=2.16 in /Users/harshilpatel/anaconda3/lib/python3.11/site-packages (from tensorflow) (2.16.2)\n",
            "Requirement already satisfied: keras>=3.0.0 in /Users/harshilpatel/anaconda3/lib/python3.11/site-packages (from tensorflow) (3.1.1)\n",
            "Requirement already satisfied: tensorflow-io-gcs-filesystem>=0.23.1 in /Users/harshilpatel/anaconda3/lib/python3.11/site-packages (from tensorflow) (0.36.0)\n",
            "Requirement already satisfied: numpy<2.0.0,>=1.23.5 in /Users/harshilpatel/anaconda3/lib/python3.11/site-packages (from tensorflow) (1.24.3)\n",
            "Requirement already satisfied: wheel<1.0,>=0.23.0 in /Users/harshilpatel/anaconda3/lib/python3.11/site-packages (from astunparse>=1.6.0->tensorflow) (0.38.4)\n",
            "Requirement already satisfied: rich in /Users/harshilpatel/anaconda3/lib/python3.11/site-packages (from keras>=3.0.0->tensorflow) (13.7.1)\n",
            "Requirement already satisfied: namex in /Users/harshilpatel/anaconda3/lib/python3.11/site-packages (from keras>=3.0.0->tensorflow) (0.0.7)\n",
            "Requirement already satisfied: optree in /Users/harshilpatel/anaconda3/lib/python3.11/site-packages (from keras>=3.0.0->tensorflow) (0.10.0)\n",
            "Requirement already satisfied: charset-normalizer<4,>=2 in /Users/harshilpatel/anaconda3/lib/python3.11/site-packages (from requests<3,>=2.21.0->tensorflow) (2.0.4)\n",
            "Requirement already satisfied: idna<4,>=2.5 in /Users/harshilpatel/anaconda3/lib/python3.11/site-packages (from requests<3,>=2.21.0->tensorflow) (3.4)\n",
            "Requirement already satisfied: urllib3<3,>=1.21.1 in /Users/harshilpatel/anaconda3/lib/python3.11/site-packages (from requests<3,>=2.21.0->tensorflow) (1.26.16)\n",
            "Requirement already satisfied: certifi>=2017.4.17 in /Users/harshilpatel/anaconda3/lib/python3.11/site-packages (from requests<3,>=2.21.0->tensorflow) (2023.7.22)\n",
            "Requirement already satisfied: markdown>=2.6.8 in /Users/harshilpatel/anaconda3/lib/python3.11/site-packages (from tensorboard<2.17,>=2.16->tensorflow) (3.4.1)\n",
            "Requirement already satisfied: tensorboard-data-server<0.8.0,>=0.7.0 in /Users/harshilpatel/anaconda3/lib/python3.11/site-packages (from tensorboard<2.17,>=2.16->tensorflow) (0.7.2)\n",
            "Requirement already satisfied: werkzeug>=1.0.1 in /Users/harshilpatel/anaconda3/lib/python3.11/site-packages (from tensorboard<2.17,>=2.16->tensorflow) (2.2.3)\n",
            "Requirement already satisfied: MarkupSafe>=2.1.1 in /Users/harshilpatel/anaconda3/lib/python3.11/site-packages (from werkzeug>=1.0.1->tensorboard<2.17,>=2.16->tensorflow) (2.1.1)\n",
            "Requirement already satisfied: markdown-it-py>=2.2.0 in /Users/harshilpatel/anaconda3/lib/python3.11/site-packages (from rich->keras>=3.0.0->tensorflow) (2.2.0)\n",
            "Requirement already satisfied: pygments<3.0.0,>=2.13.0 in /Users/harshilpatel/anaconda3/lib/python3.11/site-packages (from rich->keras>=3.0.0->tensorflow) (2.15.1)\n",
            "Requirement already satisfied: mdurl~=0.1 in /Users/harshilpatel/anaconda3/lib/python3.11/site-packages (from markdown-it-py>=2.2.0->rich->keras>=3.0.0->tensorflow) (0.1.0)\n",
            "Note: you may need to restart the kernel to use updated packages.\n"
          ]
        }
      ],
      "source": [
        "pip install tensorflow"
      ]
    },
    {
      "cell_type": "code",
      "execution_count": 11,
      "metadata": {
        "id": "pRvz8esdPkJa"
      },
      "outputs": [],
      "source": [
        "import tensorflow as tf\n",
        "import numpy as np\n",
        "import matplotlib.pyplot as plt\n",
        "from tensorflow.keras.utils import image_dataset_from_directory\n",
        "from tensorflow.keras.preprocessing.image import ImageDataGenerator\n",
        "import os\n",
        "import shutil\n",
        "from PIL import Image\n",
        "from tensorflow import keras\n",
        "from tensorflow.keras import optimizers\n",
        "\n",
        "import gradio as gr\n",
        "import itertools\n"
      ]
    },
    {
      "cell_type": "code",
      "execution_count": 12,
      "metadata": {
        "colab": {
          "base_uri": "https://localhost:8080/",
          "height": 198
        },
        "id": "ndJpjw2oP_V3",
        "outputId": "ce9c3af8-fbbc-4547-f836-7bea0030ff5d"
      },
      "outputs": [
        {
          "name": "stdout",
          "output_type": "stream",
          "text": [
            "['Rice_Citation_Request.txt', 'Karacadag', '.DS_Store', 'test', 'Ipsala', 'Arborio', 'train', 'Basmati', 'Jasmine', 'val']\n"
          ]
        }
      ],
      "source": [
        "base_dir = '/Users/harshilpatel/Desktop/645_project/Rice_Image_Dataset'\n",
        "folders = list(os.listdir(base_dir))\n",
        "print(folders)\n",
        "folders.remove(\"Rice_Citation_Request.txt\")"
      ]
    },
    {
      "cell_type": "code",
      "execution_count": 13,
      "metadata": {
        "id": "btBtl6OSRsEd"
      },
      "outputs": [
        {
          "name": "stdout",
          "output_type": "stream",
          "text": [
            "['Karacadag', '.DS_Store', 'test', 'Ipsala', 'Arborio', 'train', 'Basmati', 'Jasmine', 'val']\n"
          ]
        }
      ],
      "source": [
        "print(folders)"
      ]
    },
    {
      "cell_type": "code",
      "execution_count": 25,
      "metadata": {
        "id": "TLU6uYA5Rs9D"
      },
      "outputs": [
        {
          "name": "stdout",
          "output_type": "stream",
          "text": [
            "Files in Karacadag are ->> 15000\n",
            "Files in test are ->> 75001\n",
            "Files in Ipsala are ->> 15000\n",
            "Files in Arborio are ->> 15000\n",
            "Files in train are ->> 75003\n",
            "Files in Basmati are ->> 15000\n",
            "Files in Jasmine are ->> 15000\n",
            "Files in val are ->> 75001\n"
          ]
        }
      ],
      "source": [
        "import os\n",
        "\n",
        "base_dir = '/Users/harshilpatel/Desktop/645_project/Rice_Image_Dataset'\n",
        "\n",
        "folders = [folder for folder in os.listdir(base_dir) if os.path.isdir(os.path.join(base_dir, folder))]\n",
        "\n",
        "for folder in folders:\n",
        "    folder_path = os.path.join(base_dir, folder)\n",
        "    print('Files in', folder, 'are ->>', len(os.listdir(folder_path)))\n"
      ]
    },
    {
      "cell_type": "code",
      "execution_count": 26,
      "metadata": {},
      "outputs": [
        {
          "name": "stdout",
          "output_type": "stream",
          "text": [
            "Resizing images in Karacadag\n"
          ]
        },
        {
          "name": "stderr",
          "output_type": "stream",
          "text": [
            "/var/folders/c0/yxk9ql2j1l72rmn0t08zhqlw0000gn/T/ipykernel_77668/1945415302.py:16: DeprecationWarning: ANTIALIAS is deprecated and will be removed in Pillow 10 (2023-07-01). Use LANCZOS or Resampling.LANCZOS instead.\n",
            "  img = img.resize(target_size, Image.ANTIALIAS)\n"
          ]
        },
        {
          "name": "stdout",
          "output_type": "stream",
          "text": [
            "Resizing complete for Karacadag\n",
            "Resizing images in test\n",
            "Resizing complete for test\n",
            "Resizing images in Ipsala\n",
            "Resizing complete for Ipsala\n",
            "Resizing images in Arborio\n",
            "Resizing complete for Arborio\n",
            "Resizing images in train\n",
            "Resizing complete for train\n",
            "Resizing images in Basmati\n",
            "Resizing complete for Basmati\n",
            "Resizing images in Jasmine\n",
            "Resizing complete for Jasmine\n",
            "Resizing images in val\n",
            "Resizing complete for val\n",
            "All images resized to 256 x 256\n"
          ]
        }
      ],
      "source": [
        "# Define the target size\n",
        "target_size = (256, 256)\n",
        "\n",
        "# Loop through each folder containing images\n",
        "for folder in folders:\n",
        "    folder_path = os.path.join(base_dir, folder)\n",
        "    print('Resizing images in', folder)\n",
        "    \n",
        "    # Loop through each image file in the folder\n",
        "    for filename in os.listdir(folder_path):\n",
        "        if filename.endswith(\".jpg\") or filename.endswith(\".png\"):\n",
        "            image_path = os.path.join(folder_path, filename)\n",
        "            \n",
        "            # Open and resize the image\n",
        "            img = Image.open(image_path)\n",
        "            img = img.resize(target_size, Image.ANTIALIAS)\n",
        "            \n",
        "            # Save the resized image back to the same folder\n",
        "            img.save(image_path)\n",
        "    \n",
        "    print('Resizing complete for', folder)\n",
        "\n",
        "print('All images resized to 256 x 256')\n",
        "\n",
        "\n",
        "\n"
      ]
    }
  ],
  "metadata": {
    "colab": {
      "provenance": []
    },
    "kernelspec": {
      "display_name": "Python 3",
      "name": "python3"
    },
    "language_info": {
      "codemirror_mode": {
        "name": "ipython",
        "version": 3
      },
      "file_extension": ".py",
      "mimetype": "text/x-python",
      "name": "python",
      "nbconvert_exporter": "python",
      "pygments_lexer": "ipython3",
      "version": "3.11.5"
    }
  },
  "nbformat": 4,
  "nbformat_minor": 0
}
